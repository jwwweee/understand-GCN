{
 "metadata": {
  "language_info": {
   "codemirror_mode": {
    "name": "ipython",
    "version": 3
   },
   "file_extension": ".py",
   "mimetype": "text/x-python",
   "name": "python",
   "nbconvert_exporter": "python",
   "pygments_lexer": "ipython3",
   "version": "3.8.8"
  },
  "orig_nbformat": 2,
  "kernelspec": {
   "name": "python388jvsc74a57bd03b9fecbd7dd8a444c9828e3180b97087113c703863f26e59de267ac2bcf5348e",
   "display_name": "Python 3.8.8 64-bit ('jw': conda)"
  }
 },
 "nbformat": 4,
 "nbformat_minor": 2,
 "cells": [
  {
   "cell_type": "code",
   "execution_count": 209,
   "metadata": {},
   "outputs": [],
   "source": [
    "import torch\n",
    "import numpy as np\n",
    "import torch.nn as nn\n",
    "import torch.nn.functional as F"
   ]
  },
  {
   "source": [
    "## 定义一个简单的图"
   ],
   "cell_type": "markdown",
   "metadata": {}
  },
  {
   "cell_type": "code",
   "execution_count": 210,
   "metadata": {},
   "outputs": [],
   "source": [
    "#边，shape = [2,num_edge]\n",
    "edge_index = torch.tensor([[0, 1, 1, 2],\n",
    "                           [1, 0, 2, 1]], dtype=torch.long)\n",
    "#点，shape = [num_nodes, num_node_features]\n",
    "x_node = torch.tensor([[0], [1], [2]], dtype=torch.float)\n",
    "\n",
    "nodes_num = 3"
   ]
  },
  {
   "source": [
    "### addSelfConnect函数：添加自环edge_index"
   ],
   "cell_type": "markdown",
   "metadata": {}
  },
  {
   "cell_type": "code",
   "execution_count": 211,
   "metadata": {},
   "outputs": [
    {
     "output_type": "stream",
     "name": "stdout",
     "text": [
      "step 1: 自环边矩阵\n",
      "tensor([[0, 1, 2],\n",
      "        [0, 1, 2]])\n",
      "step 2: 合并自环边矩阵到原来的边矩阵上\n",
      "tensor([[0, 1, 1, 2, 0, 1, 2],\n",
      "        [1, 0, 2, 1, 0, 1, 2]])\n",
      "<ipython-input-211-8c5fa8eb251b>:1: UserWarning: torch.range is deprecated in favor of torch.arange and will be removed in 0.5. Note that arange generates values in [start; end), not [start; end].\n",
      "  selfconn = torch.stack([torch.range(0, nodes_num-1, dtype=torch.long)]*2, dim=0).to(edge_index.device) # 生成一个自环edge_index\n"
     ]
    }
   ],
   "source": [
    "selfconn = torch.stack([torch.range(0, nodes_num-1, dtype=torch.long)]*2, dim=0).to(edge_index.device) # 生成一个自环edge_index\n",
    "print('step 1: 自环边矩阵') \n",
    "print(selfconn)\n",
    "\n",
    "print('step 2: 合并自环边矩阵到原来的边矩阵上') \n",
    "print(torch.cat(tensors=[edge_index, selfconn], dim=1)) # 将自连接edge_index拼接到原本的edge_index中\n",
    "\n",
    "def addSelfConnect(edge_index, nodes_num):\n",
    "    selfconn = torch.stack([torch.range(0, nodes_num-1, dtype=torch.long)]*2, dim=0).to(edge_index.device)\n",
    "    return torch.cat(tensors=[edge_index, selfconn], dim=1)"
   ]
  },
  {
   "cell_type": "code",
   "execution_count": 224,
   "metadata": {},
   "outputs": [
    {
     "output_type": "stream",
     "name": "stderr",
     "text": [
      "<ipython-input-211-8c5fa8eb251b>:9: UserWarning: torch.range is deprecated in favor of torch.arange and will be removed in 0.5. Note that arange generates values in [start; end), not [start; end].\n  selfconn = torch.stack([torch.range(0, nodes_num-1, dtype=torch.long)]*2, dim=0).to(edge_index.device)\n"
     ]
    }
   ],
   "source": [
    "edge_index = addSelfConnect(edge_index, x_node.shape[0])\n",
    "edge_index\n",
    "\n",
    "x = x_node"
   ]
  },
  {
   "source": [
    "## 定义一层线性变换"
   ],
   "cell_type": "markdown",
   "metadata": {}
  },
  {
   "cell_type": "code",
   "execution_count": 225,
   "metadata": {},
   "outputs": [],
   "source": [
    "in_channel = 1\n",
    "out_channel = 1\n",
    "linear = nn.Linear(in_channel, out_channel)"
   ]
  },
  {
   "cell_type": "code",
   "execution_count": 226,
   "metadata": {},
   "outputs": [
    {
     "output_type": "stream",
     "name": "stdout",
     "text": [
      "step : 每个x都乘了个w（输出维度不一定是1）\n"
     ]
    },
    {
     "output_type": "execute_result",
     "data": {
      "text/plain": [
       "tensor([[0.],\n",
       "        [1.],\n",
       "        [2.]])"
      ]
     },
     "metadata": {},
     "execution_count": 226
    }
   ],
   "source": [
    "print('step : 每个x都乘了个w（输出维度不一定是1）') \n",
    "\n",
    "# x = linear(x_node)\n",
    "x"
   ]
  },
  {
   "source": [
    "## 归一化信息"
   ],
   "cell_type": "markdown",
   "metadata": {}
  },
  {
   "cell_type": "code",
   "execution_count": 227,
   "metadata": {},
   "outputs": [
    {
     "output_type": "stream",
     "name": "stdout",
     "text": [
      "tensor([0, 1, 1, 2, 0, 1, 2, 0, 1, 2])\ntensor([1, 0, 2, 1, 0, 1, 2, 0, 1, 2])\n"
     ]
    }
   ],
   "source": [
    "# 将edge_index矩阵拆分成两行\n",
    "sour_edge, tar_edge = edge_index\n",
    "\n",
    "print(sour_edge)\n",
    "print(tar_edge)"
   ]
  },
  {
   "source": [
    "### calDegree函数：计算节点的度"
   ],
   "cell_type": "markdown",
   "metadata": {}
  },
  {
   "cell_type": "code",
   "execution_count": 228,
   "metadata": {},
   "outputs": [],
   "source": [
    "# nodes_num\n",
    "# edges = sour_edge\n",
    "\n",
    "# # 计算每个节点的度\n",
    "# ind, deg = np.unique(edges.numpy(), return_counts=True)\n",
    "# print('step 1:')\n",
    "# print(ind)\n",
    "# print(deg)\n",
    "\n",
    "# # 生成每个节点的度tensor\n",
    "# deg_tensor = torch.zeros((nodes_num, ), dtype=torch.long)\n",
    "# print('step 2:')\n",
    "# print(deg_tensor)\n",
    "\n",
    "# deg_tensor[ind] = torch.from_numpy(deg)\n",
    "# print('step 3:')\n",
    "# print(deg_tensor)\n",
    "\n",
    "# def calDegree(edges, nodes_num):\n",
    "#         ind, deg = np.unique(edges.numpy(), return_counts=True)\n",
    "#         deg_tensor = torch.zeros((nodes_num, ), dtype=torch.long)\n",
    "#         deg_tensor[ind] = torch.from_numpy(deg)\n",
    "#         return deg_tensor\n",
    "\n",
    "# # def calDegree(edges, num_nodes):\n",
    "# #         ind, deg = np.unique(edges.numpy(), return_counts=True)\n",
    "# #         deg_tensor = torch.zeros((num_nodes ), dtype=torch.long)\n",
    "# #         deg_tensor[ind] = torch.from_numpy(deg)\n",
    "# #         return deg_tensor.to(edges.device)"
   ]
  },
  {
   "source": [
    "$d^{-\\frac{1}{2}}$"
   ],
   "cell_type": "markdown",
   "metadata": {}
  },
  {
   "cell_type": "code",
   "execution_count": 229,
   "metadata": {},
   "outputs": [],
   "source": [
    "# deg = calDegree(edges, nodes_num).float()\n",
    "\n",
    "# # 对度取根号\n",
    "# deg_sqrt = deg.pow(-0.5) \n",
    "# print('step 1:')\n",
    "# print(deg_sqrt)\n",
    "\n",
    "# # 计算归一化系数\n",
    "# norm = deg_sqrt[sour_edge] * deg_sqrt[tar_edge]\n",
    "# print('step 2:')\n",
    "# print(deg_sqrt[sour_edge])\n",
    "# print(deg_sqrt[tar_edge])\n",
    "# print(norm)"
   ]
  },
  {
   "cell_type": "code",
   "execution_count": 230,
   "metadata": {},
   "outputs": [
    {
     "output_type": "execute_result",
     "data": {
      "text/plain": [
       "tensor([[0.],\n",
       "        [1.],\n",
       "        [2.]])"
      ]
     },
     "metadata": {},
     "execution_count": 230
    }
   ],
   "source": [
    "x"
   ]
  },
  {
   "cell_type": "code",
   "execution_count": 231,
   "metadata": {},
   "outputs": [],
   "source": [
    "# deg.pow(-0.5) "
   ]
  },
  {
   "source": [
    "### 找出target_node的特征矩阵并进行归一化计算"
   ],
   "cell_type": "markdown",
   "metadata": {}
  },
  {
   "cell_type": "code",
   "execution_count": 232,
   "metadata": {},
   "outputs": [
    {
     "output_type": "stream",
     "name": "stdout",
     "text": [
      "step 1:\ntensor([[0.],\n        [1.],\n        [2.]])\ntensor([[1.],\n        [0.],\n        [2.],\n        [1.],\n        [0.],\n        [1.],\n        [2.],\n        [0.],\n        [1.],\n        [2.]])\n"
     ]
    }
   ],
   "source": [
    "# 找出target_node的特征矩阵\n",
    "tar_matrix = torch.index_select(x, dim=0, index=tar_edge)\n",
    "print('step 1:')\n",
    "print(x)\n",
    "print(tar_matrix)\n",
    "\n",
    "# 归一化计算\n",
    "# tar_matrix = norm.view(-1, 1) * tar_matrix\n",
    "# print('step 2:')\n",
    "# print(tar_matrix)"
   ]
  },
  {
   "source": [
    "## 聚合运算"
   ],
   "cell_type": "markdown",
   "metadata": {}
  },
  {
   "cell_type": "code",
   "execution_count": 233,
   "metadata": {},
   "outputs": [
    {
     "output_type": "stream",
     "name": "stdout",
     "text": [
      "tensor([[1.],\n",
      "        [0.],\n",
      "        [2.],\n",
      "        [1.],\n",
      "        [0.],\n",
      "        [1.],\n",
      "        [2.],\n",
      "        [0.],\n",
      "        [1.],\n",
      "        [2.]])\n",
      "step 1:\n",
      "tensor([[0, 1, 1, 2, 0, 1, 2, 0, 1, 2],\n",
      "        [0, 1, 1, 2, 0, 1, 2, 0, 1, 2],\n",
      "        [0, 1, 1, 2, 0, 1, 2, 0, 1, 2]])\n",
      "step 2:\n",
      "tensor([[ 0.,  1.,  1.,  2.,  0.,  1.,  2.,  0.,  1.,  2.],\n",
      "        [-1.,  0.,  0.,  1., -1.,  0.,  1., -1.,  0.,  1.],\n",
      "        [-2., -1., -1.,  0., -2., -1.,  0., -2., -1.,  0.]])\n",
      "step 3:\n",
      "tensor([[1., 0., 0., 0., 1., 0., 0., 1., 0., 0.],\n",
      "        [0., 1., 1., 0., 0., 1., 0., 0., 1., 0.],\n",
      "        [0., 0., 0., 1., 0., 0., 1., 0., 0., 1.]])\n",
      "step 4:\n",
      "tensor([[1.],\n",
      "        [4.],\n",
      "        [5.]])\n",
      "<ipython-input-233-26434730e2e1>:12: UserWarning: torch.range is deprecated in favor of torch.arange and will be removed in 0.5. Note that arange generates values in [start; end), not [start; end].\n",
      "  mask = mask.float() - torch.unsqueeze(torch.range(0, V-1).float(), 1) # 有点类似one-hot版的邻接矩阵\n"
     ]
    }
   ],
   "source": [
    "V = nodes_num\n",
    "H = tar_matrix\n",
    "\n",
    "print(H)\n",
    "\n",
    "# 建立n行source边矩阵，n为节点个数\n",
    "mask = torch.stack([sour_edge] * V, 0)\n",
    "print('step 1:')\n",
    "print(mask)\n",
    "\n",
    "# n行的source_edge分别减去0, 1, 2, ..., n\n",
    "mask = mask.float() - torch.unsqueeze(torch.range(0, V-1).float(), 1) # 有点类似one-hot版的邻接矩阵\n",
    "print('step 2:')\n",
    "print(mask)\n",
    "\n",
    "# 找出source边矩阵为零的元素，生成新的矩阵\n",
    "mask = (mask == 0).float()\n",
    "print('step 3:')\n",
    "print(mask)\n",
    "\n",
    "# 通过矩阵相乘进行aggregateSum\n",
    "print('step 4:')\n",
    "print(torch.mm(mask, H))\n",
    "\n",
    "class AggrSum(nn.Module):\n",
    "    def __init__(self, nodes_num):\n",
    "        super(AggrSum, self).__init__()\n",
    "        self.V = nodes_num\n",
    "    \n",
    "    def forward(self, H, sour_edge):\n",
    "        # H : (E, c)\n",
    "        # sour_edge : (E, 1)\n",
    "        mask = torch.stack([sour_edge] * self.V, 0)\n",
    "        mask = mask.float() - torch.unsqueeze(torch.range(0,self.V-1).float(), 1)\n",
    "        mask = (mask == 0).float()\n",
    "        # (N, E) * (E, c) -> (N, c)\n",
    "        return torch.mm(mask, H)"
   ]
  },
  {
   "cell_type": "code",
   "execution_count": 234,
   "metadata": {},
   "outputs": [
    {
     "output_type": "stream",
     "name": "stderr",
     "text": [
      "<ipython-input-233-26434730e2e1>:34: UserWarning: torch.range is deprecated in favor of torch.arange and will be removed in 0.5. Note that arange generates values in [start; end), not [start; end].\n  mask = mask.float() - torch.unsqueeze(torch.range(0,self.V-1).float(), 1)\n"
     ]
    },
    {
     "output_type": "execute_result",
     "data": {
      "text/plain": [
       "tensor([[1.],\n",
       "        [0.],\n",
       "        [2.],\n",
       "        [1.],\n",
       "        [0.],\n",
       "        [1.],\n",
       "        [2.],\n",
       "        [0.],\n",
       "        [1.],\n",
       "        [2.]])"
      ]
     },
     "metadata": {},
     "execution_count": 234
    }
   ],
   "source": [
    "aggregation = AggrSum(nodes_num)\n",
    "aggr = aggregation(tar_matrix, tar_edge)\n",
    "H"
   ]
  },
  {
   "cell_type": "code",
   "execution_count": 223,
   "metadata": {},
   "outputs": [
    {
     "output_type": "execute_result",
     "data": {
      "text/plain": [
       "3"
      ]
     },
     "metadata": {},
     "execution_count": 223
    }
   ],
   "source": [
    "nodes_num"
   ]
  },
  {
   "cell_type": "code",
   "execution_count": null,
   "metadata": {},
   "outputs": [],
   "source": []
  }
 ]
}